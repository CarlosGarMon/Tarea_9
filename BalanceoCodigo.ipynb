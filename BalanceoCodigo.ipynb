{
  "nbformat": 4,
  "nbformat_minor": 0,
  "metadata": {
    "colab": {
      "name": "BalanceoCodigo.ipynb",
      "provenance": [],
      "authorship_tag": "ABX9TyP69B6PdRVu8Z3l49Y/xpDo",
      "include_colab_link": true
    },
    "kernelspec": {
      "name": "python3",
      "display_name": "Python 3"
    },
    "language_info": {
      "name": "python"
    }
  },
  "cells": [
    {
      "cell_type": "markdown",
      "metadata": {
        "id": "view-in-github",
        "colab_type": "text"
      },
      "source": [
        "<a href=\"https://colab.research.google.com/github/CarlosGarMon/Tarea_9/blob/main/BalanceoCodigo.ipynb\" target=\"_parent\"><img src=\"https://colab.research.google.com/assets/colab-badge.svg\" alt=\"Open In Colab\"/></a>"
      ]
    },
    {
      "cell_type": "code",
      "metadata": {
        "id": "R81lYkYZ-eG1"
      },
      "source": [
        "class StackADT: \n",
        "    def __init__( self ):\n",
        "        self.__data = list()\n",
        "    \n",
        "    #Regresa true si la pila está vacía\n",
        "    def is_empty( self ):\n",
        "        return len( self.__data ) == 0\n",
        "\n",
        "    def get_lenght( self ):\n",
        "        return len( self.__data )\n",
        "\n",
        "    def pop( self ):\n",
        "        if self.is_empty():\n",
        "            print(\"Pila vacía, nada que sacar\")\n",
        "        else:\n",
        "            return self.__data.pop()\n",
        "\n",
        "    def peek( self ):\n",
        "        if self.is_empty():\n",
        "            print(\"Pila vacía, nada que sacar\")\n",
        "        else:\n",
        "            return self.__data[ -1 ]\n",
        "    \n",
        "    def push( self, value, ):\n",
        "        self.__data.append( value )\n",
        "\n",
        "    def to_string( self ):\n",
        "        for item in self.__data[ : :-1]:\n",
        "            print(f\"| {item} | \")\n"
      ],
      "execution_count": 48,
      "outputs": []
    },
    {
      "cell_type": "code",
      "metadata": {
        "id": "SDiduSfYzhCh"
      },
      "source": [
        "class BalanceoADT:\n",
        "    def __init__( self, codigo):\n",
        "        entrada = open(codigo, 'rt')\n",
        "        self.__data = entrada.read()\n",
        "        print(\"Código cargado correctamente\")\n",
        "    \n",
        "    def balanceo_llaves( self ):\n",
        "        pilaControl = StackADT()\n",
        "        pilaControl.push(\"#\")\n",
        "\n",
        "        for letra in self.__data: \n",
        "            if pilaControl.is_empty():\n",
        "                pass\n",
        "            else:\n",
        "                if letra == '{':\n",
        "                    pilaControl.push(\"{\")\n",
        "                elif letra == '}': \n",
        "                    basura = pilaControl.pop()\n",
        "                else:\n",
        "                    pass \n",
        "        \n",
        "        if pilaControl.peek() == '#':\n",
        "            print(\"El código proporcionado está CORRECTAMENTE BALANCEADO en LLAVES\")\n",
        "        else:\n",
        "            print('El código NO ESTÁ BALANCEADO en LLAVES \"{\" y \"}\"')\n",
        "\n",
        "    def balanceo_parentesis( self ):\n",
        "        pilaControl = StackADT()\n",
        "        pilaControl.push(\"#\")\n",
        "\n",
        "        for letra in self.__data: \n",
        "            if pilaControl.is_empty():\n",
        "                pass\n",
        "            else:\n",
        "                if letra == '(':\n",
        "                    pilaControl.push(\"(\")\n",
        "                elif letra == ')': \n",
        "                    basura = pilaControl.pop()\n",
        "                else:\n",
        "                    pass \n",
        "        \n",
        "        if pilaControl.peek() == '#':\n",
        "            print(\"El código proporcionado está CORRECTAMENTE BALANCEADO en PARÉNTESIS\")\n",
        "        else:\n",
        "            print('El código NO ESTÁ BALANCEADO en PARÉNTESIS \"(\" y \")\" ')\n"
      ],
      "execution_count": 49,
      "outputs": []
    },
    {
      "cell_type": "code",
      "metadata": {
        "colab": {
          "base_uri": "https://localhost:8080/"
        },
        "id": "lv2eBaE-7C8G",
        "outputId": "602376c9-ed31-4a62-9d15-bf56a49908f4"
      },
      "source": [
        "print(\"----- PRUEBAS -----\")\n",
        "print('\\n--> El archivo \"c1.txt\" está correctamente balanceado en paréntesis y en llaves:')\n",
        "c1 = BalanceoADT(\"c1.txt\")\n",
        "c1.balanceo_llaves()\n",
        "c1.balanceo_parentesis()\n",
        "\n",
        "print('\\n--> El archivo \"c2.txt\" está correctamente balanceado en paréntesis, pero tiene llaves de cierre \"}\" de más:')\n",
        "c2 = BalanceoADT(\"c2.txt\")\n",
        "c2.balanceo_llaves()\n",
        "c2.balanceo_parentesis()\n",
        "\n",
        "print('\\n--> El archivo \"cpp1.txt\" está correctamente balanceado en llaves, pero tiene paréntesis de cierre \")\" de más:')\n",
        "cpp1 = BalanceoADT(\"cpp1.txt\")\n",
        "cpp1.balanceo_llaves()\n",
        "cpp1.balanceo_parentesis()\n",
        "\n",
        "print('\\n--> El archivo \"java1.txt\" tiene llaves de cierre \"}\" de más y le faltan paréntesis de inicio \"(\"')\n",
        "java1 = BalanceoADT(\"java1.txt\")\n",
        "java1.balanceo_llaves()\n",
        "java1.balanceo_parentesis()"
      ],
      "execution_count": 50,
      "outputs": [
        {
          "output_type": "stream",
          "name": "stdout",
          "text": [
            "----- PRUEBAS -----\n",
            "\n",
            "--> El archivo \"c1.txt\" está correctamente balanceado en paréntesis y en llaves:\n",
            "Código cargado correctamente\n",
            "El código proporcionado está CORRECTAMENTE BALANCEADO en LLAVES\n",
            "El código proporcionado está CORRECTAMENTE BALANCEADO en PARÉNTESIS\n",
            "\n",
            "--> El archivo \"c2.txt\" está correctamente balanceado en paréntesis, pero tiene llaves de cierre \"}\" de más:\n",
            "Código cargado correctamente\n",
            "Pila vacía, nada que sacar\n",
            "El código NO ESTÁ BALANCEADO en LLAVES \"{\" y \"}\"\n",
            "El código proporcionado está CORRECTAMENTE BALANCEADO en PARÉNTESIS\n",
            "\n",
            "--> El archivo \"cpp1.txt\" está correctamente balanceado en llaves, pero tiene paréntesis de cierre \")\" de más:\n",
            "Código cargado correctamente\n",
            "El código proporcionado está CORRECTAMENTE BALANCEADO en LLAVES\n",
            "Pila vacía, nada que sacar\n",
            "El código NO ESTÁ BALANCEADO en PARÉNTESIS \"(\" y \")\" \n",
            "\n",
            "--> El archivo \"java1.txt\" tiene llaves de cierre \"}\" de más y le faltan paréntesis de inicio \"(\"\n",
            "Código cargado correctamente\n",
            "Pila vacía, nada que sacar\n",
            "El código NO ESTÁ BALANCEADO en LLAVES \"{\" y \"}\"\n",
            "Pila vacía, nada que sacar\n",
            "El código NO ESTÁ BALANCEADO en PARÉNTESIS \"(\" y \")\" \n"
          ]
        }
      ]
    }
  ]
}